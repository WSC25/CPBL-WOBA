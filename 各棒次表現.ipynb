{
 "cells": [
  {
   "cell_type": "code",
   "execution_count": 31,
   "id": "ffbc54db",
   "metadata": {},
   "outputs": [],
   "source": [
    "import pandas as pd"
   ]
  },
  {
   "cell_type": "code",
   "execution_count": 32,
   "id": "4ef2b267",
   "metadata": {},
   "outputs": [],
   "source": [
    "excel_file_path1 = 'C:/Users/ASUS/OneDrive/Documents/中信兄弟/Season_data/2023_non_trackman.xlsx'\n",
    "excel_file_path2 = 'C:/Users/ASUS/OneDrive/Documents/中信兄弟/Season_data/2024_non_trackman.xlsx'\n",
    "excel_file_path3 = 'C:/Users/ASUS/OneDrive/Documents/中信兄弟/程式碼/WOBA/RE.xlsx'\n",
    "sheet_name = 'Sheet1'"
   ]
  },
  {
   "cell_type": "code",
   "execution_count": 33,
   "id": "e926edb2",
   "metadata": {},
   "outputs": [],
   "source": [
    "non_track_2023 = pd.read_excel(excel_file_path1, sheet_name=sheet_name)\n",
    "non_track_2024 = pd.read_excel(excel_file_path2, sheet_name=sheet_name)\n",
    "RE = pd.read_excel(excel_file_path3, sheet_name=sheet_name)"
   ]
  },
  {
   "cell_type": "code",
   "execution_count": 34,
   "id": "6b5775dd",
   "metadata": {},
   "outputs": [],
   "source": [
    "col=['gameId','side','awayScores','homeScores','inning','paRound','paOrder','firstId','secondId','thirdId','result','outs','runsOnPlay','bName','pName','bTeamId']"
   ]
  },
  {
   "cell_type": "code",
   "execution_count": 35,
   "id": "012d7475",
   "metadata": {},
   "outputs": [],
   "source": [
    "non_track_2023= non_track_2023[col]\n",
    "non_track_2024= non_track_2024[col]\n"
   ]
  },
  {
   "cell_type": "code",
   "execution_count": 36,
   "id": "b06fc620",
   "metadata": {},
   "outputs": [],
   "source": [
    "non_track = pd.concat([non_track_2023, non_track_2024], ignore_index=True)"
   ]
  },
  {
   "cell_type": "code",
   "execution_count": 37,
   "id": "e5eed9c3",
   "metadata": {},
   "outputs": [],
   "source": [
    "def calculate_base_state(row):\n",
    "    state = 0\n",
    "    if pd.notna(row['firstId']):\n",
    "        state += 1\n",
    "    if pd.notna(row['secondId']):\n",
    "        state += 2\n",
    "    if pd.notna(row['thirdId']):\n",
    "        state += 4\n",
    "    return state\n",
    "\n",
    "# 应用函数创建新的 \"壘包狀態\" 列\n",
    "non_track['壘包狀態'] = non_track.apply(calculate_base_state, axis=1)"
   ]
  },
  {
   "cell_type": "code",
   "execution_count": 38,
   "id": "cc11ecf6",
   "metadata": {},
   "outputs": [],
   "source": [
    "def get_expected_runs(row):\n",
    "    base_type = row[\"壘包狀態\"]\n",
    "    outs = row[\"outs\"]\n",
    "    #balls = row[\"balls\"]\n",
    "    #strikes = row[\"strikes\"]\n",
    "    \n",
    "    matching_row = RE[(RE[\"壘包狀態\"] == base_type) & \n",
    "                          (RE[\"outs\"] == outs)] \n",
    "                          #(RE[\"Balls\"] == balls) & \n",
    "                          #(RE[\"Strikes\"] == strikes)]\n",
    "    \n",
    "    if not matching_row.empty:\n",
    "        return matching_row.iloc[0][\"RE\"]\n",
    "    else:\n",
    "        return None\n",
    "\n",
    "non_track[\"RE\"] = non_track.apply(get_expected_runs, axis=1)\n"
   ]
  },
  {
   "cell_type": "code",
   "execution_count": 39,
   "id": "b8942961",
   "metadata": {},
   "outputs": [],
   "source": [
    "non_track = non_track.dropna(subset=['result'])"
   ]
  },
  {
   "cell_type": "code",
   "execution_count": 40,
   "id": "1aff9206",
   "metadata": {},
   "outputs": [
    {
     "ename": "KeyError",
     "evalue": "'Column not found: 打者編號'",
     "output_type": "error",
     "traceback": [
      "\u001b[1;31m---------------------------------------------------------------------------\u001b[0m",
      "\u001b[1;31mKeyError\u001b[0m                                  Traceback (most recent call last)",
      "Cell \u001b[1;32mIn[40], line 3\u001b[0m\n\u001b[0;32m      1\u001b[0m non_track[\u001b[38;5;124m'\u001b[39m\u001b[38;5;124mRE_change\u001b[39m\u001b[38;5;124m'\u001b[39m] \u001b[38;5;241m=\u001b[39m non_track\u001b[38;5;241m.\u001b[39mgroupby([\u001b[38;5;124m'\u001b[39m\u001b[38;5;124mgameId\u001b[39m\u001b[38;5;124m'\u001b[39m,\u001b[38;5;124m'\u001b[39m\u001b[38;5;124minning\u001b[39m\u001b[38;5;124m'\u001b[39m,\u001b[38;5;124m'\u001b[39m\u001b[38;5;124mside\u001b[39m\u001b[38;5;124m'\u001b[39m])[\u001b[38;5;124m'\u001b[39m\u001b[38;5;124mRE\u001b[39m\u001b[38;5;124m'\u001b[39m]\u001b[38;5;241m.\u001b[39mdiff()\u001b[38;5;241m.\u001b[39mshift(\u001b[38;5;241m-\u001b[39m\u001b[38;5;241m1\u001b[39m)\n\u001b[1;32m----> 3\u001b[0m last_bat_indexes \u001b[38;5;241m=\u001b[39m non_track\u001b[38;5;241m.\u001b[39mgroupby([\u001b[38;5;124m'\u001b[39m\u001b[38;5;124mgameId\u001b[39m\u001b[38;5;124m'\u001b[39m, \u001b[38;5;124m'\u001b[39m\u001b[38;5;124minning\u001b[39m\u001b[38;5;124m'\u001b[39m, \u001b[38;5;124m'\u001b[39m\u001b[38;5;124mside\u001b[39m\u001b[38;5;124m'\u001b[39m])[\u001b[38;5;124m'\u001b[39m\u001b[38;5;124m打者編號\u001b[39m\u001b[38;5;124m'\u001b[39m]\u001b[38;5;241m.\u001b[39midxmax()\n\u001b[0;32m      5\u001b[0m non_track\u001b[38;5;241m.\u001b[39mloc[last_bat_indexes, \u001b[38;5;124m'\u001b[39m\u001b[38;5;124mRE_change\u001b[39m\u001b[38;5;124m'\u001b[39m] \u001b[38;5;241m=\u001b[39m \u001b[38;5;241m-\u001b[39mnon_track[\u001b[38;5;124m'\u001b[39m\u001b[38;5;124mRE\u001b[39m\u001b[38;5;124m'\u001b[39m]\n",
      "File \u001b[1;32m~\\anaconda3\\Lib\\site-packages\\pandas\\core\\groupby\\generic.py:1416\u001b[0m, in \u001b[0;36mDataFrameGroupBy.__getitem__\u001b[1;34m(self, key)\u001b[0m\n\u001b[0;32m   1407\u001b[0m \u001b[38;5;28;01mif\u001b[39;00m \u001b[38;5;28misinstance\u001b[39m(key, \u001b[38;5;28mtuple\u001b[39m) \u001b[38;5;129;01mand\u001b[39;00m \u001b[38;5;28mlen\u001b[39m(key) \u001b[38;5;241m>\u001b[39m \u001b[38;5;241m1\u001b[39m:\n\u001b[0;32m   1408\u001b[0m     \u001b[38;5;66;03m# if len == 1, then it becomes a SeriesGroupBy and this is actually\u001b[39;00m\n\u001b[0;32m   1409\u001b[0m     \u001b[38;5;66;03m# valid syntax, so don't raise warning\u001b[39;00m\n\u001b[0;32m   1410\u001b[0m     warnings\u001b[38;5;241m.\u001b[39mwarn(\n\u001b[0;32m   1411\u001b[0m         \u001b[38;5;124m\"\u001b[39m\u001b[38;5;124mIndexing with multiple keys (implicitly converted to a tuple \u001b[39m\u001b[38;5;124m\"\u001b[39m\n\u001b[0;32m   1412\u001b[0m         \u001b[38;5;124m\"\u001b[39m\u001b[38;5;124mof keys) will be deprecated, use a list instead.\u001b[39m\u001b[38;5;124m\"\u001b[39m,\n\u001b[0;32m   1413\u001b[0m         \u001b[38;5;167;01mFutureWarning\u001b[39;00m,\n\u001b[0;32m   1414\u001b[0m         stacklevel\u001b[38;5;241m=\u001b[39mfind_stack_level(),\n\u001b[0;32m   1415\u001b[0m     )\n\u001b[1;32m-> 1416\u001b[0m \u001b[38;5;28;01mreturn\u001b[39;00m \u001b[38;5;28msuper\u001b[39m()\u001b[38;5;241m.\u001b[39m\u001b[38;5;21m__getitem__\u001b[39m(key)\n",
      "File \u001b[1;32m~\\anaconda3\\Lib\\site-packages\\pandas\\core\\base.py:248\u001b[0m, in \u001b[0;36mSelectionMixin.__getitem__\u001b[1;34m(self, key)\u001b[0m\n\u001b[0;32m    246\u001b[0m \u001b[38;5;28;01melse\u001b[39;00m:\n\u001b[0;32m    247\u001b[0m     \u001b[38;5;28;01mif\u001b[39;00m key \u001b[38;5;129;01mnot\u001b[39;00m \u001b[38;5;129;01min\u001b[39;00m \u001b[38;5;28mself\u001b[39m\u001b[38;5;241m.\u001b[39mobj:\n\u001b[1;32m--> 248\u001b[0m         \u001b[38;5;28;01mraise\u001b[39;00m \u001b[38;5;167;01mKeyError\u001b[39;00m(\u001b[38;5;124mf\u001b[39m\u001b[38;5;124m\"\u001b[39m\u001b[38;5;124mColumn not found: \u001b[39m\u001b[38;5;132;01m{\u001b[39;00mkey\u001b[38;5;132;01m}\u001b[39;00m\u001b[38;5;124m\"\u001b[39m)\n\u001b[0;32m    249\u001b[0m     subset \u001b[38;5;241m=\u001b[39m \u001b[38;5;28mself\u001b[39m\u001b[38;5;241m.\u001b[39mobj[key]\n\u001b[0;32m    250\u001b[0m     ndim \u001b[38;5;241m=\u001b[39m subset\u001b[38;5;241m.\u001b[39mndim\n",
      "\u001b[1;31mKeyError\u001b[0m: 'Column not found: 打者編號'"
     ]
    }
   ],
   "source": [
    "non_track['RE_change'] = non_track.groupby(['gameId','inning','side'])['RE'].diff().shift(-1)\n",
    "\n",
    "last_bat_indexes = non_track.groupby(['gameId', 'inning', 'side'])['打者編號'].idxmax()\n",
    "\n",
    "non_track.loc[last_bat_indexes, 'RE_change'] = -non_track['RE']"
   ]
  },
  {
   "cell_type": "code",
   "execution_count": null,
   "id": "7454dbd2",
   "metadata": {},
   "outputs": [],
   "source": [
    "non_track['RE24']=non_track['RE_change']+non_track['runsOnPlay']"
   ]
  },
  {
   "cell_type": "code",
   "execution_count": null,
   "id": "50fee938",
   "metadata": {},
   "outputs": [],
   "source": [
    "non_track['打者編號'] = non_track.groupby(['gameId', 'side', 'inning']).cumcount() + 1\n",
    "#non_track['打者編號'] = non_track.groupby(['gameId', 'side', 'inning']).cumcount() + 1"
   ]
  },
  {
   "cell_type": "code",
   "execution_count": null,
   "id": "e1509855",
   "metadata": {},
   "outputs": [],
   "source": [
    "non_track"
   ]
  },
  {
   "cell_type": "code",
   "execution_count": null,
   "id": "7854339c",
   "metadata": {},
   "outputs": [],
   "source": [
    "name_mapping = {\n",
    "    '65630ee55559b6d7a6d5d200':'兄弟',\n",
    "    '65630ee95559b6d7a6d5d201':'味全', \n",
    "    '65630eed5559b6d7a6d5d202':'樂天', \n",
    "    '65630ef25559b6d7a6d5d203':'統一',\n",
    "    '65630ef65559b6d7a6d5d204':'富邦',\n",
    "    '6569a9ddaf62a48d3f94b422':'台鋼',\n",
    "    }\n",
    "\n",
    "# 新增一列\"球員\"，根据\"Pitcher\"列的值匹配中文名\n",
    "non_track ['球隊'] = non_track ['bTeamId'].map(name_mapping)\n",
    "non_track"
   ]
  },
  {
   "cell_type": "code",
   "execution_count": 29,
   "id": "be467fc4",
   "metadata": {},
   "outputs": [
    {
     "data": {
      "text/html": [
       "<div>\n",
       "<style scoped>\n",
       "    .dataframe tbody tr th:only-of-type {\n",
       "        vertical-align: middle;\n",
       "    }\n",
       "\n",
       "    .dataframe tbody tr th {\n",
       "        vertical-align: top;\n",
       "    }\n",
       "\n",
       "    .dataframe thead th {\n",
       "        text-align: right;\n",
       "    }\n",
       "</style>\n",
       "<table border=\"1\" class=\"dataframe\">\n",
       "  <thead>\n",
       "    <tr style=\"text-align: right;\">\n",
       "      <th></th>\n",
       "      <th>RE24</th>\n",
       "    </tr>\n",
       "    <tr>\n",
       "      <th>paOrder</th>\n",
       "      <th></th>\n",
       "    </tr>\n",
       "  </thead>\n",
       "  <tbody>\n",
       "    <tr>\n",
       "      <th>1</th>\n",
       "      <td>-0.011754</td>\n",
       "    </tr>\n",
       "    <tr>\n",
       "      <th>2</th>\n",
       "      <td>-0.002732</td>\n",
       "    </tr>\n",
       "    <tr>\n",
       "      <th>3</th>\n",
       "      <td>0.005458</td>\n",
       "    </tr>\n",
       "    <tr>\n",
       "      <th>4</th>\n",
       "      <td>-0.008218</td>\n",
       "    </tr>\n",
       "    <tr>\n",
       "      <th>5</th>\n",
       "      <td>-0.004881</td>\n",
       "    </tr>\n",
       "    <tr>\n",
       "      <th>6</th>\n",
       "      <td>-0.028270</td>\n",
       "    </tr>\n",
       "    <tr>\n",
       "      <th>7</th>\n",
       "      <td>-0.036751</td>\n",
       "    </tr>\n",
       "    <tr>\n",
       "      <th>8</th>\n",
       "      <td>-0.045875</td>\n",
       "    </tr>\n",
       "    <tr>\n",
       "      <th>9</th>\n",
       "      <td>-0.041799</td>\n",
       "    </tr>\n",
       "  </tbody>\n",
       "</table>\n",
       "</div>"
      ],
      "text/plain": [
       "             RE24\n",
       "paOrder          \n",
       "1       -0.011754\n",
       "2       -0.002732\n",
       "3        0.005458\n",
       "4       -0.008218\n",
       "5       -0.004881\n",
       "6       -0.028270\n",
       "7       -0.036751\n",
       "8       -0.045875\n",
       "9       -0.041799"
      ]
     },
     "execution_count": 29,
     "metadata": {},
     "output_type": "execute_result"
    }
   ],
   "source": [
    "summary = non_track.groupby(['球隊','paOrder']).agg({\"RE24\": \"mean\"})\n",
    "\n",
    "# 重新命名列名\n",
    "#hitter_summary.rename(columns={\"li值\": \"平均LI值\", \"WPA\": \"總WPA\",\"打序\": \"PA\"}, inplace=True)\n",
    "\n",
    "# 輸出結果\n",
    "summary"
   ]
  },
  {
   "cell_type": "code",
   "execution_count": null,
   "id": "662905cf",
   "metadata": {},
   "outputs": [],
   "source": [
    "summary.reset_index(inplace=True)"
   ]
  },
  {
   "cell_type": "code",
   "execution_count": null,
   "id": "137ad4d7",
   "metadata": {},
   "outputs": [],
   "source": [
    "summary"
   ]
  },
  {
   "cell_type": "code",
   "execution_count": null,
   "id": "7311cd92",
   "metadata": {},
   "outputs": [],
   "source": [
    "#summary.to_excel('各棒次結果RE24.xlsx', index=True)"
   ]
  },
  {
   "cell_type": "code",
   "execution_count": null,
   "id": "2a5f3e16",
   "metadata": {},
   "outputs": [],
   "source": [
    "summary2 = non_track.groupby(['paOrder']).agg({\"paOrder\": \"count\"})\n",
    "\n",
    "# 輸出結果\n",
    "summary2['PA/G']=summary2['paOrder']/300/2\n",
    "summary2"
   ]
  },
  {
   "cell_type": "code",
   "execution_count": null,
   "id": "005d35a2",
   "metadata": {},
   "outputs": [],
   "source": [
    "summary2.reset_index(drop=True, inplace=True)"
   ]
  },
  {
   "cell_type": "code",
   "execution_count": null,
   "id": "e5a6a4e8",
   "metadata": {},
   "outputs": [],
   "source": [
    "# 計算每一棒和下一棒打席數差異的百分比\n",
    "summary2['Difference(%)'] = summary2['PA/G'].pct_change(1)\n",
    "\n",
    "# 將Difference(%)移動一行，使其對應於當前paOrder\n",
    "summary2['Difference(%)'] = summary2['Difference(%)'].shift(-1)"
   ]
  },
  {
   "cell_type": "code",
   "execution_count": null,
   "id": "73eac9f9",
   "metadata": {},
   "outputs": [],
   "source": [
    "summary2.rename(columns={\"paOrder\": \"總數\"}, inplace=True)\n",
    "summary2['paOrder'] = range(1, 10)"
   ]
  },
  {
   "cell_type": "code",
   "execution_count": null,
   "id": "37a4c83b",
   "metadata": {},
   "outputs": [],
   "source": [
    "summary2"
   ]
  },
  {
   "cell_type": "code",
   "execution_count": null,
   "id": "bbf59f70",
   "metadata": {},
   "outputs": [],
   "source": [
    "def get_expected_runs(row):\n",
    "    pa_type = row[\"paOrder\"]\n",
    "\n",
    "    matching_row = summary2[summary2[\"paOrder\"] == pa_type]\n",
    "    \n",
    "    if not matching_row.empty:\n",
    "        return matching_row.iloc[0][\"Difference(%)\"]\n",
    "    else:\n",
    "        return None\n",
    "\n",
    "summary[\"Difference(%)\"] = summary.apply(get_expected_runs, axis=1)\n",
    "\n",
    "summary"
   ]
  },
  {
   "cell_type": "code",
   "execution_count": null,
   "id": "9008c126",
   "metadata": {},
   "outputs": [],
   "source": [
    "summary['AdjustedRE24'] = summary['RE24'] * (1 - (summary['Difference(%)']))\n",
    "summary"
   ]
  },
  {
   "cell_type": "code",
   "execution_count": null,
   "id": "22ea2ade",
   "metadata": {},
   "outputs": [],
   "source": [
    "#summary.to_excel('各棒次結果RE24(打席數差異加成後).xlsx', index=True)"
   ]
  },
  {
   "cell_type": "code",
   "execution_count": null,
   "id": "18a4f4ed",
   "metadata": {},
   "outputs": [],
   "source": []
  }
 ],
 "metadata": {
  "kernelspec": {
   "display_name": "Python 3 (ipykernel)",
   "language": "python",
   "name": "python3"
  },
  "language_info": {
   "codemirror_mode": {
    "name": "ipython",
    "version": 3
   },
   "file_extension": ".py",
   "mimetype": "text/x-python",
   "name": "python",
   "nbconvert_exporter": "python",
   "pygments_lexer": "ipython3",
   "version": "3.11.4"
  }
 },
 "nbformat": 4,
 "nbformat_minor": 5
}
